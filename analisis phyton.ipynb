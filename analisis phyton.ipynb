{
  "cells": [
    {
      "cell_type": "raw",
      "metadata": {},
      "source": [
        "---\n",
        "title: analisis en phyton\n",
        "format: pdf\n",
        "editor: visual\n",
        "---"
      ],
      "id": "d8066737"
    },
    {
      "cell_type": "markdown",
      "metadata": {},
      "source": [
        "## "
      ],
      "id": "d4073b7a"
    }
  ],
  "metadata": {
    "kernelspec": {
      "display_name": "Python 3",
      "language": "python",
      "name": "python3"
    }
  },
  "nbformat": 4,
  "nbformat_minor": 5
}